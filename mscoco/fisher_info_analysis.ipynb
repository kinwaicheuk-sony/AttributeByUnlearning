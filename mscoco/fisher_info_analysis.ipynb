{
 "cells": [
  {
   "cell_type": "code",
   "execution_count": 16,
   "metadata": {},
   "outputs": [],
   "source": [
    "import torch\n",
    "import matplotlib.pyplot as plt"
   ]
  },
  {
   "cell_type": "code",
   "execution_count": 56,
   "metadata": {},
   "outputs": [],
   "source": [
    "# load all the fisher info fisher_info_list\n",
    "fisher_info_list = []\n",
    "for i in range(1, 6):\n",
    "    fisher_info = torch.load(f'/tss/kinwai/AttributeByUnlearning/mscoco/fisher_by_epochs/fisher_{i}.pt')\n",
    "    fisher_info_list.append(fisher_info)"
   ]
  },
  {
   "cell_type": "code",
   "execution_count": 65,
   "metadata": {},
   "outputs": [],
   "source": [
    "from torch.utils.tensorboard import SummaryWriter\n",
    "\n",
    "# Initialize TensorBoard writer\n",
    "writer = SummaryWriter(\"runs/fisher_histograms\")\n",
    "\n",
    "# Fisher Information Histogram Logging\n",
    "for epoch, fisher_matrices in enumerate(fisher_info_list):\n",
    "    for name, param in fisher_matrices.items():\n",
    "        group_name = name.split('.')[0]  # Extract group identifier\n",
    "        writer.add_histogram(f\"{group_name}/{name}\", param.flatten(), epoch)\n",
    "\n",
    "\n",
    "writer.close()\n"
   ]
  }
 ],
 "metadata": {
  "kernelspec": {
   "display_name": "attr_mscoco",
   "language": "python",
   "name": "python3"
  },
  "language_info": {
   "codemirror_mode": {
    "name": "ipython",
    "version": 3
   },
   "file_extension": ".py",
   "mimetype": "text/x-python",
   "name": "python",
   "nbconvert_exporter": "python",
   "pygments_lexer": "ipython3",
   "version": "3.12.8"
  }
 },
 "nbformat": 4,
 "nbformat_minor": 2
}
